{
 "cells": [
  {
   "cell_type": "code",
   "execution_count": 9,
   "metadata": {},
   "outputs": [],
   "source": [
    "import requests\n",
    "import re\n",
    "import os\n",
    "from bs4 import BeautifulSoup as bs"
   ]
  },
  {
   "cell_type": "code",
   "execution_count": 13,
   "metadata": {},
   "outputs": [],
   "source": [
    "root_url = \"https://html.webinane.com/electric-admin/#/\""
   ]
  },
  {
   "cell_type": "code",
   "execution_count": 2,
   "metadata": {},
   "outputs": [],
   "source": [
    "root_path = 'electric-admin'"
   ]
  },
  {
   "cell_type": "code",
   "execution_count": 3,
   "metadata": {},
   "outputs": [],
   "source": [
    "string_type = ['.html', '.css', '.js']"
   ]
  },
  {
   "cell_type": "code",
   "execution_count": 11,
   "metadata": {},
   "outputs": [],
   "source": [
    "def save_file(file_name, content, file_path):\n",
    "    if len(file_name) < 2:\n",
    "        return\n",
    "    ext = os.path.splitext(file_name[1])\n",
    "    if not os.path.exists(file_path):\n",
    "        os.makedirs(file_path)\n",
    "    if ext in string_type:\n",
    "        mode = 'w'\n",
    "    else:\n",
    "        mode = 'wb'\n",
    "    if file_name[0] != \"/\":\n",
    "        file_path = file_path + \"/\"\n",
    "    with open(file_path + file_name, mode) as f:\n",
    "        f.write(content)\n",
    "    print(f\"finish write {file_name} at {file_path}\")"
   ]
  },
  {
   "cell_type": "code",
   "execution_count": 5,
   "metadata": {},
   "outputs": [],
   "source": [
    "def my_request(root_url, file_url):\n",
    "    print(f\"requesting {file_url}\")\n",
    "    return requests.get(root_url + file_url).content"
   ]
  },
  {
   "cell_type": "code",
   "execution_count": 6,
   "metadata": {},
   "outputs": [],
   "source": [
    "def handle_file(_list):\n",
    "    for file_url in _list:\n",
    "        file_path = root_path\n",
    "        list_url = file_url.split('/')\n",
    "        file_name = list_url[len(list_url) - 1]\n",
    "        for i in range(0, len(list_url)-1):\n",
    "            file_path += \"/\" + list_url[i]\n",
    "        content = my_request(root_url, file_url)\n",
    "        save_file(file_name, content, file_path)"
   ]
  },
  {
   "cell_type": "code",
   "execution_count": 14,
   "metadata": {},
   "outputs": [],
   "source": [
    "list_a = []\n",
    "list_css = []\n",
    "list_js = []\n",
    "list_img = []\n",
    "list_a.append('index.html')"
   ]
  },
  {
   "cell_type": "code",
   "execution_count": 15,
   "metadata": {},
   "outputs": [
    {
     "name": "stdout",
     "output_type": "stream",
     "text": [
      "requesting index.html\n",
      "finish write index.html at electric-admin/\n"
     ]
    }
   ],
   "source": [
    "for a in list_a:\n",
    "    print(f\"requesting {a}\")\n",
    "    tmp_page = requests.get(root_url + a)\n",
    "    tmp_bs_page = bs(tmp_page.content, features=\"lxml\")\n",
    "    tmp_list_a = tmp_bs_page.find_all(\"a\")\n",
    "    tmp_list_css = tmp_bs_page.find_all(\"link\")\n",
    "    tmp_list_js = tmp_bs_page.find_all(\"script\")\n",
    "    tmp_list_img = tmp_bs_page.find_all(\"img\")\n",
    "    for i in range(0, len(tmp_list_a)):\n",
    "        tmp = str(tmp_list_a[i].get('href'))\n",
    "        # print(tmp)\n",
    "        if not re.match(r'^https?:/{2}\\w.+$', tmp):\n",
    "            if len(tmp) > 0:\n",
    "                if tmp[0] != '#' and tmp not in list_a:\n",
    "                    list_a.append(tmp)\n",
    "    for i in range(0, len(tmp_list_css)):\n",
    "        tmp = str(tmp_list_css[i].get('href'))\n",
    "        if not re.match(r'^https?:/{2}\\w.+$', tmp):\n",
    "            if tmp not in list_css:\n",
    "                list_css.append(tmp)\n",
    "    for i in range(0, len(tmp_list_js)):\n",
    "        tmp = str(tmp_list_js[i].get('src'))\n",
    "        if not re.match(r'^https?:/{2}\\w.+$', tmp):\n",
    "            if tmp not in list_js:\n",
    "                list_js.append(tmp)\n",
    "    for i in range(0, len(tmp_list_img)):\n",
    "        tmp = str(tmp_list_img[i].get('src'))\n",
    "        if not re.match(r'^https?:/{2}\\w.+$', tmp):\n",
    "            if tmp not in list_img:\n",
    "                list_img.append(tmp)\n",
    "    # save html files\n",
    "    # 必须要先请求到新的html页面才能获取到新的html页面中的资源路径\n",
    "    save_file(a, tmp_page.content, root_path)"
   ]
  },
  {
   "cell_type": "code",
   "execution_count": 10,
   "metadata": {
    "scrolled": false
   },
   "outputs": [
    {
     "name": "stdout",
     "output_type": "stream",
     "text": [
      "html files: 84\n",
      "css files: 6\n",
      "js files: 34\n",
      "img files: 112\n"
     ]
    }
   ],
   "source": [
    "print(f'html files: {len(list_a)}')\n",
    "print(f'css files: {len(list_css)}')\n",
    "print(f'js files: {len(list_js)}')\n",
    "print(f'img files: {len(list_img)}')"
   ]
  },
  {
   "cell_type": "code",
   "execution_count": 12,
   "metadata": {
    "scrolled": true
   },
   "outputs": [
    {
     "data": {
      "text/plain": [
       "['index.html',\n",
       " 'category.html',\n",
       " 'book-page.html',\n",
       " 'book-pdf.html',\n",
       " 'Checkout.html',\n",
       " 'wishlist.html',\n",
       " 'admin-dashboard.html',\n",
       " 'admin-category.html',\n",
       " 'admin-author.html',\n",
       " 'admin-books.html',\n",
       " 'profile.html',\n",
       " 'profile-edit.html',\n",
       " 'add-user.html',\n",
       " 'user-list.html',\n",
       " 'ui-colors.html',\n",
       " 'ui-typography.html',\n",
       " 'ui-alerts.html',\n",
       " 'ui-badges.html',\n",
       " 'ui-breadcrumb.html',\n",
       " 'ui-buttons.html',\n",
       " 'ui-cards.html',\n",
       " 'ui-carousel.html',\n",
       " 'ui-embed-video.html',\n",
       " 'ui-grid.html',\n",
       " 'ui-images.html',\n",
       " 'ui-list-group.html',\n",
       " 'ui-media-object.html',\n",
       " 'ui-modal.html',\n",
       " 'ui-notifications.html',\n",
       " 'ui-pagination.html',\n",
       " 'ui-popovers.html',\n",
       " 'ui-progressbars.html',\n",
       " 'ui-tabs.html',\n",
       " 'ui-tooltips.html',\n",
       " 'form-layout.html',\n",
       " 'form-validation.html',\n",
       " 'form-switch.html',\n",
       " 'form-chechbox.html',\n",
       " 'form-radio.html',\n",
       " 'form-wizard.html',\n",
       " 'form-wizard-validate.html',\n",
       " 'form-wizard-vertical.html',\n",
       " 'tables-basic.html',\n",
       " 'data-table.html',\n",
       " 'table-editable.html',\n",
       " 'chart-morris.html',\n",
       " 'chart-high.html',\n",
       " 'chart-am.html',\n",
       " 'chart-apex.html',\n",
       " 'icon-dripicons.html',\n",
       " 'icon-fontawesome-5.html',\n",
       " 'icon-lineawesome.html',\n",
       " 'icon-remixicon.html',\n",
       " 'icon-unicons.html',\n",
       " 'sign-in.html',\n",
       " 'sign-up.html',\n",
       " 'pages-recoverpw.html',\n",
       " 'pages-confirm-mail.html',\n",
       " 'pages-lock-screen.html',\n",
       " 'pages-timeline.html',\n",
       " 'pages-invoice.html',\n",
       " 'blank-page.html',\n",
       " 'pages-error.html',\n",
       " 'pages-error-500.html',\n",
       " 'pages-pricing.html',\n",
       " 'pages-maintenance.html',\n",
       " 'pages-comingsoon.html',\n",
       " 'pages-faq.html',\n",
       " 'account-setting.html',\n",
       " 'privacy-setting.html',\n",
       " 'javascript:void(0);',\n",
       " 'javascript:void();',\n",
       " 'privacy-policy.html',\n",
       " 'terms-of-service.html',\n",
       " 'pages-pricing-one.html',\n",
       " 'admin-add-category.html',\n",
       " 'admin-add-author.html',\n",
       " 'admin-add-book.html',\n",
       " '/cdn-cgi/l/email-protection',\n",
       " 'javascripe:void();',\n",
       " '/docs/4.3/utilities/display/',\n",
       " '/docs/4.3/utilities/borders/',\n",
       " '/docs/4.3/utilities/flex/',\n",
       " 'None']"
      ]
     },
     "execution_count": 12,
     "metadata": {},
     "output_type": "execute_result"
    }
   ],
   "source": [
    "list_a"
   ]
  },
  {
   "cell_type": "code",
   "execution_count": 18,
   "metadata": {
    "scrolled": true
   },
   "outputs": [
    {
     "data": {
      "text/plain": [
       "['js/jquery.min.js',\n",
       " 'js/popper.min.js',\n",
       " 'js/bootstrap.min.js',\n",
       " 'js/jquery.appear.js',\n",
       " 'js/countdown.min.js',\n",
       " 'js/waypoints.min.js',\n",
       " 'js/jquery.counterup.min.js',\n",
       " 'js/wow.min.js',\n",
       " 'js/apexcharts.js',\n",
       " 'js/slick.min.js',\n",
       " 'js/select2.min.js',\n",
       " 'js/owl.carousel.min.js',\n",
       " 'js/jquery.magnific-popup.min.js',\n",
       " 'js/smooth-scrollbar.js',\n",
       " 'js/lottie.js',\n",
       " 'js/core.js',\n",
       " 'js/charts.js',\n",
       " 'js/animated.js',\n",
       " 'js/kelly.js',\n",
       " 'js/maps.js',\n",
       " 'js/worldLow.js',\n",
       " 'js/raphael-min.js',\n",
       " 'js/morris.js',\n",
       " 'js/morris.min.js',\n",
       " 'js/flatpickr.js',\n",
       " 'js/style-customizer.js',\n",
       " 'js/chart-custom.js',\n",
       " 'js/custom.js',\n",
       " 'js/jquery.dataTables.min.js',\n",
       " 'js/dataTables.bootstrap4.min.js',\n",
       " '/cdn-cgi/scripts/5c5dd728/cloudflare-static/email-decode.min.js',\n",
       " 'js/highcharts.js',\n",
       " 'js/highcharts-3d.js',\n",
       " 'js/highcharts-more.js']"
      ]
     },
     "execution_count": 18,
     "metadata": {},
     "output_type": "execute_result"
    }
   ],
   "source": [
    "list_js"
   ]
  },
  {
   "cell_type": "code",
   "execution_count": 26,
   "metadata": {
    "scrolled": true
   },
   "outputs": [
    {
     "name": "stdout",
     "output_type": "stream",
     "text": [
      "requesting images/favicon.ico\n",
      "finish write favicon.ico at booksto/images/\n",
      "requesting css/bootstrap.min.css\n",
      "finish write bootstrap.min.css at booksto/css/\n",
      "requesting css/typography.css\n",
      "finish write typography.css at booksto/css/\n",
      "requesting css/style.css\n",
      "finish write style.css at booksto/css/\n",
      "requesting css/responsive.css\n",
      "finish write responsive.css at booksto/css/\n",
      "requesting css/dataTables.bootstrap4.min.css\n",
      "finish write dataTables.bootstrap4.min.css at booksto/css/\n"
     ]
    }
   ],
   "source": [
    "# save css files\n",
    "handle_file(list_css)"
   ]
  },
  {
   "cell_type": "code",
   "execution_count": 27,
   "metadata": {
    "scrolled": true
   },
   "outputs": [
    {
     "name": "stdout",
     "output_type": "stream",
     "text": [
      "requesting js/jquery.min.js\n",
      "finish write jquery.min.js at booksto/js/\n",
      "requesting js/popper.min.js\n",
      "finish write popper.min.js at booksto/js/\n",
      "requesting js/bootstrap.min.js\n",
      "finish write bootstrap.min.js at booksto/js/\n",
      "requesting js/jquery.appear.js\n",
      "finish write jquery.appear.js at booksto/js/\n",
      "requesting js/countdown.min.js\n",
      "finish write countdown.min.js at booksto/js/\n",
      "requesting js/waypoints.min.js\n",
      "finish write waypoints.min.js at booksto/js/\n",
      "requesting js/jquery.counterup.min.js\n",
      "finish write jquery.counterup.min.js at booksto/js/\n",
      "requesting js/wow.min.js\n",
      "finish write wow.min.js at booksto/js/\n",
      "requesting js/apexcharts.js\n",
      "finish write apexcharts.js at booksto/js/\n",
      "requesting js/slick.min.js\n",
      "finish write slick.min.js at booksto/js/\n",
      "requesting js/select2.min.js\n",
      "finish write select2.min.js at booksto/js/\n",
      "requesting js/owl.carousel.min.js\n",
      "finish write owl.carousel.min.js at booksto/js/\n",
      "requesting js/jquery.magnific-popup.min.js\n",
      "finish write jquery.magnific-popup.min.js at booksto/js/\n",
      "requesting js/smooth-scrollbar.js\n",
      "finish write smooth-scrollbar.js at booksto/js/\n",
      "requesting js/lottie.js\n",
      "finish write lottie.js at booksto/js/\n",
      "requesting js/core.js\n",
      "finish write core.js at booksto/js/\n",
      "requesting js/charts.js\n",
      "finish write charts.js at booksto/js/\n",
      "requesting js/animated.js\n",
      "finish write animated.js at booksto/js/\n",
      "requesting js/kelly.js\n",
      "finish write kelly.js at booksto/js/\n",
      "requesting js/maps.js\n",
      "finish write maps.js at booksto/js/\n",
      "requesting js/worldLow.js\n",
      "finish write worldLow.js at booksto/js/\n",
      "requesting js/raphael-min.js\n",
      "finish write raphael-min.js at booksto/js/\n",
      "requesting js/morris.js\n",
      "finish write morris.js at booksto/js/\n",
      "requesting js/morris.min.js\n",
      "finish write morris.min.js at booksto/js/\n",
      "requesting js/flatpickr.js\n",
      "finish write flatpickr.js at booksto/js/\n",
      "requesting js/style-customizer.js\n",
      "finish write style-customizer.js at booksto/js/\n",
      "requesting js/chart-custom.js\n",
      "finish write chart-custom.js at booksto/js/\n",
      "requesting js/custom.js\n",
      "finish write custom.js at booksto/js/\n",
      "requesting js/jquery.dataTables.min.js\n",
      "finish write jquery.dataTables.min.js at booksto/js/\n",
      "requesting js/dataTables.bootstrap4.min.js\n",
      "finish write dataTables.bootstrap4.min.js at booksto/js/\n",
      "requesting /cdn-cgi/scripts/5c5dd728/cloudflare-static/email-decode.min.js\n",
      "finish write email-decode.min.js at booksto//cdn-cgi/scripts/5c5dd728/cloudflare-static/\n",
      "requesting js/highcharts.js\n",
      "finish write highcharts.js at booksto/js/\n",
      "requesting js/highcharts-3d.js\n",
      "finish write highcharts-3d.js at booksto/js/\n",
      "requesting js/highcharts-more.js\n",
      "finish write highcharts-more.js at booksto/js/\n"
     ]
    }
   ],
   "source": [
    "# save js files\n",
    "handle_file(list_js)"
   ]
  },
  {
   "cell_type": "code",
   "execution_count": 28,
   "metadata": {},
   "outputs": [
    {
     "name": "stdout",
     "output_type": "stream",
     "text": [
      "requesting images/logo.png\n",
      "finish write logo.png at booksto/images/\n",
      "requesting images/page-img/side-bkg.png\n",
      "finish write side-bkg.png at booksto/images/page-img/\n",
      "requesting images/user/01.jpg\n",
      "finish write 01.jpg at booksto/images/user/\n",
      "requesting images/user/02.jpg\n",
      "finish write 02.jpg at booksto/images/user/\n",
      "requesting images/user/03.jpg\n",
      "finish write 03.jpg at booksto/images/user/\n",
      "requesting images/user/04.jpg\n",
      "finish write 04.jpg at booksto/images/user/\n",
      "requesting images/user/05.jpg\n",
      "finish write 05.jpg at booksto/images/user/\n",
      "requesting images/cart/01.jpg\n",
      "finish write 01.jpg at booksto/images/cart/\n",
      "requesting images/cart/02.jpg\n",
      "finish write 02.jpg at booksto/images/cart/\n",
      "requesting images/cart/03.jpg\n",
      "finish write 03.jpg at booksto/images/cart/\n",
      "requesting images/cart/04.jpg\n",
      "finish write 04.jpg at booksto/images/cart/\n",
      "requesting images/user/1.jpg\n",
      "finish write 1.jpg at booksto/images/user/\n",
      "requesting images/new_realeases/01.jpg\n",
      "finish write 01.jpg at booksto/images/new_realeases/\n",
      "requesting images/new_realeases/02.jpg\n",
      "finish write 02.jpg at booksto/images/new_realeases/\n",
      "requesting images/new_realeases/03.jpg\n",
      "finish write 03.jpg at booksto/images/new_realeases/\n",
      "requesting images/new_realeases/04.jpg\n",
      "finish write 04.jpg at booksto/images/new_realeases/\n",
      "requesting images/new_realeases/05.jpg\n",
      "finish write 05.jpg at booksto/images/new_realeases/\n",
      "requesting images/new_realeases/06.jpg\n",
      "finish write 06.jpg at booksto/images/new_realeases/\n",
      "requesting images/new_realeases/07.jpg\n",
      "finish write 07.jpg at booksto/images/new_realeases/\n",
      "requesting images/new_realeases/08.jpg\n",
      "finish write 08.jpg at booksto/images/new_realeases/\n",
      "requesting images/new_realeases/09.jpg\n",
      "finish write 09.jpg at booksto/images/new_realeases/\n",
      "requesting images/browse-books/01.jpg\n",
      "finish write 01.jpg at booksto/images/browse-books/\n",
      "requesting images/browse-books/02.jpg\n",
      "finish write 02.jpg at booksto/images/browse-books/\n",
      "requesting images/browse-books/03.jpg\n",
      "finish write 03.jpg at booksto/images/browse-books/\n",
      "requesting images/browse-books/04.jpg\n",
      "finish write 04.jpg at booksto/images/browse-books/\n",
      "requesting images/browse-books/05.jpg\n",
      "finish write 05.jpg at booksto/images/browse-books/\n",
      "requesting images/browse-books/06.jpg\n",
      "finish write 06.jpg at booksto/images/browse-books/\n",
      "requesting images/browse-books/07.jpg\n",
      "finish write 07.jpg at booksto/images/browse-books/\n",
      "requesting images/browse-books/08.jpg\n",
      "finish write 08.jpg at booksto/images/browse-books/\n",
      "requesting images/browse-books/09.jpg\n",
      "finish write 09.jpg at booksto/images/browse-books/\n",
      "requesting images/browse-books/10.jpg\n",
      "finish write 10.jpg at booksto/images/browse-books/\n",
      "requesting images/browse-books/11.jpg\n",
      "finish write 11.jpg at booksto/images/browse-books/\n",
      "requesting images/browse-books/12.jpg\n",
      "finish write 12.jpg at booksto/images/browse-books/\n",
      "requesting images/page-img/featured-book.png\n",
      "finish write featured-book.png at booksto/images/page-img/\n",
      "requesting images/user/06.jpg\n",
      "finish write 06.jpg at booksto/images/user/\n",
      "requesting images/user/07.jpg\n",
      "finish write 07.jpg at booksto/images/user/\n",
      "requesting images/user/08.jpg\n",
      "finish write 08.jpg at booksto/images/user/\n",
      "requesting images/user/09.jpg\n",
      "finish write 09.jpg at booksto/images/user/\n",
      "requesting images/user/10.jpg\n",
      "finish write 10.jpg at booksto/images/user/\n",
      "requesting images/user/11.jpg\n",
      "finish write 11.jpg at booksto/images/user/\n",
      "requesting images/favorite/01.jpg\n",
      "finish write 01.jpg at booksto/images/favorite/\n",
      "requesting images/favorite/02.jpg\n",
      "finish write 02.jpg at booksto/images/favorite/\n",
      "requesting images/favorite/03.jpg\n",
      "finish write 03.jpg at booksto/images/favorite/\n",
      "requesting images/favorite/04.jpg\n",
      "finish write 04.jpg at booksto/images/favorite/\n",
      "requesting images/search-book/01.jpg\n",
      "finish write 01.jpg at booksto/images/search-book/\n",
      "requesting images/search-book/02.jpg\n",
      "finish write 02.jpg at booksto/images/search-book/\n",
      "requesting images/search-book/03.jpg\n",
      "finish write 03.jpg at booksto/images/search-book/\n",
      "requesting images/search-book/04.jpg\n",
      "finish write 04.jpg at booksto/images/search-book/\n",
      "requesting images/search-book/05.jpg\n",
      "finish write 05.jpg at booksto/images/search-book/\n",
      "requesting images/search-book/06.jpg\n",
      "finish write 06.jpg at booksto/images/search-book/\n",
      "requesting images/search-book/07.jpg\n",
      "finish write 07.jpg at booksto/images/search-book/\n",
      "requesting images/search-book/08.jpg\n",
      "finish write 08.jpg at booksto/images/search-book/\n",
      "requesting images/search-book/09.jpg\n",
      "finish write 09.jpg at booksto/images/search-book/\n",
      "requesting images/search-book/10.jpg\n",
      "finish write 10.jpg at booksto/images/search-book/\n",
      "requesting images/search-book/11.jpg\n",
      "finish write 11.jpg at booksto/images/search-book/\n",
      "requesting images/search-book/12.jpg\n",
      "finish write 12.jpg at booksto/images/search-book/\n",
      "requesting images/similar-books/01.jpg\n",
      "finish write 01.jpg at booksto/images/similar-books/\n",
      "requesting images/similar-books/02.jpg\n",
      "finish write 02.jpg at booksto/images/similar-books/\n",
      "requesting images/similar-books/03.jpg\n",
      "finish write 03.jpg at booksto/images/similar-books/\n",
      "requesting images/similar-books/04.jpg\n",
      "finish write 04.jpg at booksto/images/similar-books/\n",
      "requesting images/similar-books/05.jpg\n",
      "finish write 05.jpg at booksto/images/similar-books/\n",
      "requesting images/similar-books/06.jpg\n",
      "finish write 06.jpg at booksto/images/similar-books/\n",
      "requesting images/trendy-books/01.jpg\n",
      "finish write 01.jpg at booksto/images/trendy-books/\n",
      "requesting images/trendy-books/02.jpg\n",
      "finish write 02.jpg at booksto/images/trendy-books/\n",
      "requesting images/trendy-books/03.jpg\n",
      "finish write 03.jpg at booksto/images/trendy-books/\n",
      "requesting images/trendy-books/04.jpg\n",
      "finish write 04.jpg at booksto/images/trendy-books/\n",
      "requesting images/trendy-books/05.jpg\n",
      "finish write 05.jpg at booksto/images/trendy-books/\n",
      "requesting images/trendy-books/06.jpg\n",
      "finish write 06.jpg at booksto/images/trendy-books/\n",
      "requesting images/favorite/05.jpg\n",
      "finish write 05.jpg at booksto/images/favorite/\n",
      "requesting images/favorite/06.jpg\n",
      "finish write 06.jpg at booksto/images/favorite/\n",
      "requesting images/favorite/07.jpg\n",
      "finish write 07.jpg at booksto/images/favorite/\n",
      "requesting images/favorite/08.jpg\n",
      "finish write 08.jpg at booksto/images/favorite/\n",
      "requesting images/book-dec/01.jpg\n",
      "finish write 01.jpg at booksto/images/book-dec/\n",
      "requesting images/book-dec/02.jpg\n",
      "finish write 02.jpg at booksto/images/book-dec/\n",
      "requesting images/book-dec/03.jpg\n",
      "finish write 03.jpg at booksto/images/book-dec/\n",
      "requesting images/book-dec/04.jpg\n",
      "finish write 04.jpg at booksto/images/book-dec/\n",
      "requesting images/book-dec/05.jpg\n",
      "finish write 05.jpg at booksto/images/book-dec/\n",
      "requesting images/book-dec/06.jpg\n",
      "finish write 06.jpg at booksto/images/book-dec/\n",
      "requesting images/checkout/01.jpg\n",
      "finish write 01.jpg at booksto/images/checkout/\n",
      "requesting images/checkout/02.jpg\n",
      "finish write 02.jpg at booksto/images/checkout/\n",
      "requesting images/checkout/03.jpg\n",
      "finish write 03.jpg at booksto/images/checkout/\n",
      "requesting images/booking/cart.png\n",
      "finish write cart.png at booksto/images/booking/\n",
      "requesting images/user/11.png\n",
      "finish write 11.png at booksto/images/user/\n",
      "requesting images/page-img/07.jpg\n",
      "finish write 07.jpg at booksto/images/page-img/\n",
      "requesting images/page-img/08.jpg\n",
      "finish write 08.jpg at booksto/images/page-img/\n",
      "requesting images/page-img/09.jpg\n",
      "finish write 09.jpg at booksto/images/page-img/\n",
      "requesting images/small/img-1.jpg\n",
      "finish write img-1.jpg at booksto/images/small/\n",
      "requesting images/page-img/15.jpg\n",
      "finish write 15.jpg at booksto/images/page-img/\n",
      "requesting images/page-img/16.jpg\n",
      "finish write 16.jpg at booksto/images/page-img/\n",
      "requesting images/page-img/17.jpg\n",
      "finish write 17.jpg at booksto/images/page-img/\n",
      "requesting images/page-img/18.jpg\n",
      "finish write 18.jpg at booksto/images/page-img/\n",
      "requesting images/page-img/19.jpg\n",
      "finish write 19.jpg at booksto/images/page-img/\n",
      "requesting images/page-img/20.jpg\n",
      "finish write 20.jpg at booksto/images/page-img/\n",
      "requesting images/page-img/10.jpg\n",
      "finish write 10.jpg at booksto/images/page-img/\n",
      "requesting images/page-img/11.jpg\n",
      "finish write 11.jpg at booksto/images/page-img/\n",
      "requesting images/page-img/12.jpg\n",
      "finish write 12.jpg at booksto/images/page-img/\n",
      "requesting images/page-img/13.jpg\n",
      "finish write 13.jpg at booksto/images/page-img/\n",
      "requesting images/page-img/14.jpg\n"
     ]
    },
    {
     "name": "stdout",
     "output_type": "stream",
     "text": [
      "finish write 14.jpg at booksto/images/page-img/\n",
      "requesting images/page-img/21.jpg\n",
      "finish write 21.jpg at booksto/images/page-img/\n",
      "requesting images/page-img/22.jpg\n",
      "finish write 22.jpg at booksto/images/page-img/\n",
      "requesting images/page-img/23.jpg\n",
      "finish write 23.jpg at booksto/images/page-img/\n",
      "requesting images/page-img/24.jpg\n",
      "finish write 24.jpg at booksto/images/page-img/\n",
      "requesting images/page-img/img-success.png\n",
      "finish write img-success.png at booksto/images/page-img/\n",
      "requesting images/login/mail.png\n",
      "finish write mail.png at booksto/images/login/\n",
      "requesting images/error/404.png\n",
      "finish write 404.png at booksto/images/error/\n",
      "requesting images/error/500.png\n",
      "finish write 500.png at booksto/images/error/\n",
      "requesting images/page-img/25.jpg\n",
      "finish write 25.jpg at booksto/images/page-img/\n",
      "requesting images/page-img/26.jpg\n",
      "finish write 26.jpg at booksto/images/page-img/\n",
      "requesting images/page-img/27.jpg\n",
      "finish write 27.jpg at booksto/images/page-img/\n",
      "requesting images/page-img/28.jpg\n",
      "finish write 28.jpg at booksto/images/page-img/\n",
      "requesting images/error/02.png\n",
      "finish write 02.png at booksto/images/error/\n",
      "requesting images/logo-full2.png\n",
      "finish write logo-full2.png at booksto/images/\n"
     ]
    }
   ],
   "source": [
    "# save img files\n",
    "handle_file(list_img)"
   ]
  },
  {
   "cell_type": "code",
   "execution_count": 29,
   "metadata": {},
   "outputs": [
    {
     "name": "stdout",
     "output_type": "stream",
     "text": [
      "requesting fontawesome.css\n"
     ]
    }
   ],
   "source": [
    "tmp = my_request(\"https://iqonic.design/themes/booksto/html/css/\", \"fontawesome.css\")"
   ]
  },
  {
   "cell_type": "code",
   "execution_count": 31,
   "metadata": {
    "scrolled": true
   },
   "outputs": [
    {
     "data": {
      "text/plain": [
       "bytes"
      ]
     },
     "execution_count": 31,
     "metadata": {},
     "output_type": "execute_result"
    }
   ],
   "source": [
    "type(tmp)"
   ]
  },
  {
   "cell_type": "code",
   "execution_count": 61,
   "metadata": {},
   "outputs": [],
   "source": [
    "str1 = tmp.decode(\"utf-8\")"
   ]
  },
  {
   "cell_type": "code",
   "execution_count": 62,
   "metadata": {
    "scrolled": true
   },
   "outputs": [
    {
     "data": {
      "text/plain": [
      ]
     },
     "execution_count": 62,
     "metadata": {},
     "output_type": "execute_result"
    }
   ],
   "source": [
    "str1"
   ]
  },
  {
   "cell_type": "code",
   "execution_count": 55,
   "metadata": {},
   "outputs": [],
   "source": [
    "pattern = re.compile(r\"url\\(.*\\)\")"
   ]
  },
  {
   "cell_type": "code",
   "execution_count": 56,
   "metadata": {},
   "outputs": [],
   "source": [
    "result1 = pattern.findall(str1)"
   ]
  },
  {
   "cell_type": "code",
   "execution_count": 59,
   "metadata": {},
   "outputs": [
    {
     "data": {
      "text/plain": [
       "1"
      ]
     },
     "execution_count": 59,
     "metadata": {},
     "output_type": "execute_result"
    }
   ],
   "source": []
  },
  {
   "cell_type": "code",
   "execution_count": null,
   "metadata": {},
   "outputs": [],
   "source": []
  }
 ],
 "metadata": {
  "kernelspec": {
   "display_name": "Python 3",
   "language": "python",
   "name": "python3"
  },
  "language_info": {
   "codemirror_mode": {
    "name": "ipython",
    "version": 3
   },
   "file_extension": ".py",
   "mimetype": "text/x-python",
   "name": "python",
   "nbconvert_exporter": "python",
   "pygments_lexer": "ipython3",
   "version": "3.7.7"
  }
 },
 "nbformat": 4,
 "nbformat_minor": 4
}
